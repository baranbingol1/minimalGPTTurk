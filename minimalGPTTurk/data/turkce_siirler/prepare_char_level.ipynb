{
 "cells": [
  {
   "cell_type": "markdown",
   "id": "3bf5d597-5598-4c69-9b12-1756e3088263",
   "metadata": {},
   "source": [
    "**Bu notebookta train.py için huggingface de bulunan bir türkçe şiirler veri setini indirip karakter düzeyinde tokenize edip train.py için hazır hale getiriyoruz.**"
   ]
  },
  {
   "cell_type": "code",
   "execution_count": 1,
   "id": "151e6bbc-922a-4ffe-97bc-c29cfdd40c6e",
   "metadata": {},
   "outputs": [],
   "source": [
    "import json\n",
    "from tqdm import tqdm\n",
    "import numpy as np\n",
    "from datasets import load_dataset "
   ]
  },
  {
   "cell_type": "code",
   "execution_count": 4,
   "id": "8a65ec08-aa4b-4a27-b494-eebd8705a94d",
   "metadata": {},
   "outputs": [
    {
     "data": {
      "text/plain": [
       "DatasetDict({\n",
       "    train: Dataset({\n",
       "        features: ['poem'],\n",
       "        num_rows: 4464\n",
       "    })\n",
       "    val: Dataset({\n",
       "        features: ['poem'],\n",
       "        num_rows: 497\n",
       "    })\n",
       "})"
      ]
     },
     "execution_count": 4,
     "metadata": {},
     "output_type": "execute_result"
    }
   ],
   "source": [
    "dataset = load_dataset('beratcmn/turkish-poems-cleaned')\n",
    "\n",
    "unwanted_columns = ['title', 'rating', 'id', 'poet']\n",
    "split_dataset = dataset['train'].train_test_split(test_size=0.1, seed=1337)\n",
    "split_dataset = split_dataset.remove_columns(unwanted_columns)\n",
    "split_dataset['val'] = split_dataset.pop('test') # test splitinin ismini val olarak değişiyoruz\n",
    "split_dataset"
   ]
  },
  {
   "cell_type": "code",
   "execution_count": 5,
   "id": "17587de9-eb77-4f81-87cd-942226404601",
   "metadata": {},
   "outputs": [],
   "source": [
    "# character level tokenizer oluşturmak için tüm veri setindeki ayrı karakterleri topluyoruz ve sözlük oluşturuyoruz\n",
    "def create_vocab(dataset):\n",
    "    vocab = set()\n",
    "    for example in dataset:\n",
    "        vocab.update(example['poem'])\n",
    "    vocab = sorted(vocab)\n",
    "    char_to_id = {char: idx for idx, char in enumerate(vocab, start=1)}  # 0 -> bilinmeyen token olarak reserve.\n",
    "    char_to_id['<cs>'] = len(char_to_id) + 1  # vocab'ın sonuna end of text tokeni ekliyoruz (cs -> cümle sonu)\n",
    "    char_to_id['<bk>'] = 0 # bk -> bilinmeyen karakter\n",
    "    return char_to_id\n",
    "\n",
    "# sözlüğü oluşturduktan sonra kaydetmek için.\n",
    "def save_vocab_as_json(vocab, filename=\"vocab.json\"):\n",
    "    with open(filename, 'w', encoding='utf-8') as f:\n",
    "        json.dump(vocab, f, ensure_ascii=False, indent=4)\n",
    "    print(f\"Karakter sözlüğü {filename} olarak kaydedildi.\")"
   ]
  },
  {
   "cell_type": "code",
   "execution_count": 6,
   "id": "e1efd2ea-36f2-4241-903b-fbef0448e399",
   "metadata": {},
   "outputs": [
    {
     "name": "stdout",
     "output_type": "stream",
     "text": [
      "Karakter sözlüğü vocab.json olarak kaydedildi.\n"
     ]
    }
   ],
   "source": [
    "vocab = create_vocab(split_dataset['train'])\n",
    "eot_token = vocab['<cs>']\n",
    "save_vocab_as_json(vocab, 'vocab.json')"
   ]
  },
  {
   "cell_type": "code",
   "execution_count": 7,
   "id": "4033aa52-4f40-47dd-895e-40de57d7fa20",
   "metadata": {},
   "outputs": [
    {
     "name": "stdout",
     "output_type": "stream",
     "text": [
      "Toplam sözlük boyutu : 141\n"
     ]
    }
   ],
   "source": [
    "print(f'Toplam sözlük boyutu : {len(vocab)}')"
   ]
  },
  {
   "cell_type": "code",
   "execution_count": 8,
   "id": "04b61a6d-c72c-4ba1-8f54-d838cd40bf15",
   "metadata": {},
   "outputs": [],
   "source": [
    "# her karakteri denk geldiği id'ye çeviriyoruz\n",
    "def process(example):\n",
    "    ids = [vocab.get(char, 0) for char in example['poem']] \n",
    "    ids.append(eot_token)  # her şiirin sonuna modele context verebilmek için end-of-text tokeni ekliyoruz\n",
    "    return {'ids': ids, 'len': len(ids)}"
   ]
  },
  {
   "cell_type": "code",
   "execution_count": 9,
   "id": "7730751d-6f0e-4d88-a172-a7c3fc896aa2",
   "metadata": {},
   "outputs": [
    {
     "data": {
      "application/vnd.jupyter.widget-view+json": {
       "model_id": "6010648b1a5740a9872bcdd7554ae0ae",
       "version_major": 2,
       "version_minor": 0
      },
      "text/plain": [
       "Tokenize ediliyor..:   0%|          | 0/4464 [00:00<?, ? examples/s]"
      ]
     },
     "metadata": {},
     "output_type": "display_data"
    },
    {
     "data": {
      "application/vnd.jupyter.widget-view+json": {
       "model_id": "e94f84bb7eda4531bb694a2c41bf9945",
       "version_major": 2,
       "version_minor": 0
      },
      "text/plain": [
       "Tokenize ediliyor..:   0%|          | 0/497 [00:00<?, ? examples/s]"
      ]
     },
     "metadata": {},
     "output_type": "display_data"
    }
   ],
   "source": [
    "tokenized = split_dataset.map(\n",
    "    process,\n",
    "    remove_columns=['poem'],\n",
    "    desc=\"Tokenize ediliyor..\"\n",
    ")"
   ]
  },
  {
   "cell_type": "code",
   "execution_count": 10,
   "id": "97b7c970-7c8e-4d57-b3b8-293254692056",
   "metadata": {},
   "outputs": [
    {
     "name": "stderr",
     "output_type": "stream",
     "text": [
      "train.bin oluşturuluyor...: 100%|██████████| 256/256 [00:00<00:00, 876.01it/s]\n",
      "val.bin oluşturuluyor...: 100%|██████████| 256/256 [00:00<00:00, 1034.67it/s]\n"
     ]
    }
   ],
   "source": [
    "for split, dset in tokenized.items():\n",
    "    arr_len = np.sum(dset['len'], dtype=np.uint64)\n",
    "    filename = f'{split}.bin'\n",
    "    dtype = np.uint8 # sözlük boyutu oldukça küçük olduğu için uint8 kullanabiliriz (2**8 > 139)\n",
    "    arr = np.memmap(filename, dtype=dtype, mode='w+', shape=(arr_len,))\n",
    "    total_batches = 256\n",
    "\n",
    "    idx = 0\n",
    "    for batch_idx in tqdm(range(total_batches), desc=f'{filename} oluşturuluyor...'):\n",
    "        batch = dset.shard(num_shards=total_batches, index=batch_idx, contiguous=True).with_format('numpy')\n",
    "        arr_batch = np.concatenate(batch['ids'])\n",
    "        arr[idx:idx + len(arr_batch)] = arr_batch\n",
    "        idx += len(arr_batch)\n",
    "    arr.flush()"
   ]
  }
 ],
 "metadata": {
  "kernelspec": {
   "display_name": "Python 3 (ipykernel)",
   "language": "python",
   "name": "python3"
  },
  "language_info": {
   "codemirror_mode": {
    "name": "ipython",
    "version": 3
   },
   "file_extension": ".py",
   "mimetype": "text/x-python",
   "name": "python",
   "nbconvert_exporter": "python",
   "pygments_lexer": "ipython3",
   "version": "3.10.11"
  }
 },
 "nbformat": 4,
 "nbformat_minor": 5
}
